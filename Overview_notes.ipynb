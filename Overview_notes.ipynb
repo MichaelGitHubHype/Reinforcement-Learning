{
  "nbformat": 4,
  "nbformat_minor": 0,
  "metadata": {
    "colab": {
      "name": "Section 2: Course Overview.ipynb",
      "version": "0.3.2",
      "provenance": []
    },
    "kernelspec": {
      "name": "python3",
      "display_name": "Python 3"
    }
  },
  "cells": [
    {
      "cell_type": "markdown",
      "metadata": {
        "id": "W8InKp5q_0SH",
        "colab_type": "text"
      },
      "source": [
        "**Supervised Learning**: Used for image classification, spam detection\n",
        "\n",
        "**Unsupervised Learning**: An AI system groups unsorted information according to similiarties and differences even though there are no categories provided. This allows to find broad pattern within objects, no one is actually telling you how to divide up the area. Doesn't have targets. \n",
        "      * Topic Modeling: Given a set of topics determine which topics share the same meaning\n",
        "      \n",
        "So far, all data is the same - a table of numbers. \n",
        "      \n",
        "**Reinforcement Learning**: Does things human can do. You don't just need data, you need to interact with the world. This is done using a continuous stream of data such that the model considers past and future to. This adds the time variable and is much faster than supervised learning in this types of problems. \n",
        "\n",
        "      * Walking\n",
        "      * Playing Human Games\n",
        "      \n",
        "**API**: Application Programming interface, the set of tools to build a software \n"
      ]
    },
    {
      "cell_type": "markdown",
      "metadata": {
        "id": "hhh0PV8WGgNO",
        "colab_type": "text"
      },
      "source": [
        "In reinforcement learning an agent only nowns if it's decisions were correct if it eventually solved the maze. \n",
        "\n",
        "We humans behave the way we do because of a deeper underline desire which we are unware of. Similiarly AI can find strange or unusual ways to achieve a goal. \n",
        "\n",
        "What's nice about AI is that it can obtain thousands years of exprience in the blink of an eye. "
      ]
    },
    {
      "cell_type": "markdown",
      "metadata": {
        "id": "ohrfk0AfI_LE",
        "colab_type": "text"
      },
      "source": [
        "\n",
        "1. **Agent**: Things that senses the enviornment - what we are trying to code intellegence into. \n",
        "2. **Enviornment**: Simulated world where the agent leaves.\n",
        "3. **State**: Different configurations of the enviornment that the agent can sense. \n",
        "4. **Actions**: What an agent does in its enviornment\n",
        "\n",
        "An agent not only tries to maximize it's immediate reward, but also it's future reward. \n",
        "\n",
        "By giving a negative reward for every step taken we tell the AI to try and take the best path. \n",
        "\n",
        "[S(t), A(t), S(t+1)], triple "
      ]
    }
  ]
}